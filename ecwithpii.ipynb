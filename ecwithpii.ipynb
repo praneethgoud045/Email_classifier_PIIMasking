{
 "cells": [
  {
   "cell_type": "code",
   "execution_count": 1,
   "id": "3e09fcb5-3d0a-48d7-a0ef-f31e26444938",
   "metadata": {},
   "outputs": [
    {
     "name": "stdout",
     "output_type": "stream",
     "text": [
      "                                               email      type\n",
      "0  Subject: Unvorhergesehener Absturz der Datenan...  Incident\n",
      "1  Subject: Customer Support Inquiry\\n\\nSeeking i...   Request\n",
      "2  Subject: Data Analytics for Investment\\n\\nI am...   Request\n",
      "3  Subject: Krankenhaus-Dienstleistung-Problem\\n\\...  Incident\n",
      "4  Subject: Security\\n\\nDear Customer Support, I ...   Request\n"
     ]
    }
   ],
   "source": [
    "import pandas as pd\n",
    "\n",
    "# Load dataset\n",
    "df = pd.read_csv('downloads/combined_emails_with_natural_pii.csv')  # Change the filename if needed\n",
    "print(df.head())  # See first few emails\n"
   ]
  },
  {
   "cell_type": "code",
   "execution_count": 10,
   "id": "2fd787c4-f57f-4782-bfc8-d6ee99fef049",
   "metadata": {},
   "outputs": [],
   "source": [
    "import re\n",
    "\n",
    "def mask_entity(text, pattern, entity_type, replacement, entities_list):\n",
    "    for match in re.finditer(pattern, text):\n",
    "        start, end = match.span()\n",
    "        original = match.group()\n",
    "        text = text[:start] + replacement + text[end:]\n",
    "        entities_list.append({\n",
    "            \"position\": [start, start + len(replacement)],\n",
    "            \"classification\": entity_type,\n",
    "            \"entity\": original\n",
    "        })\n",
    "    return text, entities_list\n",
    "\n",
    "def mask_pii(email_text):\n",
    "    masked_entities = []\n",
    "\n",
    "    # Mask Full Name (Simple Pattern: after \"my name is ...\")\n",
    "    name_regex = r'\\bmy name is ([A-Za-z\\s]+)\\b'\n",
    "    matches = re.finditer(name_regex, email_text, re.IGNORECASE)\n",
    "    for match in matches:\n",
    "        start, end = match.span(1)\n",
    "        original = match.group(1)\n",
    "        email_text = email_text[:start] + '[full_name]' + email_text[end:]\n",
    "        masked_entities.append({\n",
    "            \"position\": [start, start + len('[full_name]')],\n",
    "            \"classification\": \"full_name\",\n",
    "            \"entity\": original\n",
    "        })\n",
    "\n",
    "\n",
    "    # Mask Email Address\n",
    "    email_regex = r'\\b[A-Za-z0-9._%+-]+@[A-Za-z0-9.-]+\\.[A-Za-z]{2,}\\b'\n",
    "    email_text, masked_entities = mask_entity(email_text, email_regex, 'email', '[email]', masked_entities)\n",
    "\n",
    "    # Mask Phone Number (10 digits)\n",
    "    phone_regex = r'\\b\\d{10}\\b'\n",
    "    email_text, masked_entities = mask_entity(email_text, phone_regex, 'phone_number', '[phone_number]', masked_entities)\n",
    "\n",
    "    # Mask Aadhaar\n",
    "    aadhaar_regex = r'\\b\\d{4}\\s\\d{4}\\s\\d{4}\\b'\n",
    "    email_text, masked_entities = mask_entity(email_text, aadhaar_regex, 'aadhar_num', '[aadhar_num]', masked_entities)\n",
    "\n",
    "    # Mask Card Number\n",
    "    card_regex = r'\\b(?:\\d[ -]*?){13,16}\\b'\n",
    "    email_text, masked_entities = mask_entity(email_text, card_regex, 'credit_debit_no', '[credit_debit_no]', masked_entities)\n",
    "\n",
    "    # Mask CVV\n",
    "    cvv_regex = r'\\b\\d{3}\\b'\n",
    "    email_text, masked_entities = mask_entity(email_text, cvv_regex, 'cvv_no', '[cvv_no]', masked_entities)\n",
    "\n",
    "    # Mask Expiry Date (MM/YY)\n",
    "    expiry_regex = r'\\b(0[1-9]|1[0-2])\\/\\d{2}\\b'\n",
    "    email_text, masked_entities = mask_entity(email_text, expiry_regex, 'expiry_no', '[expiry_no]', masked_entities)\n",
    "\n",
    "    # Mask Date of Birth (DD/MM/YYYY)\n",
    "    dob_regex = r'\\b(0[1-9]|[12][0-9]|3[01])\\/(0[1-9]|1[012])\\/\\d{4}\\b'\n",
    "    email_text, masked_entities = mask_entity(email_text, dob_regex, 'dob', '[dob]', masked_entities)\n",
    "\n",
    "    return email_text, masked_entities\n"
   ]
  },
  {
   "cell_type": "code",
   "execution_count": 5,
   "id": "f62aa4ef-a815-46df-be98-4372d47765f3",
   "metadata": {},
   "outputs": [],
   "source": [
    "import os\n",
    "\n",
    "# Create folder if it does not exist\n",
    "if not os.path.exists('saved_models'):\n",
    "    os.makedirs('saved_models')\n"
   ]
  },
  {
   "cell_type": "code",
   "execution_count": 11,
   "id": "fa7d4947-710e-4507-9cdc-664e08287ec8",
   "metadata": {},
   "outputs": [
    {
     "name": "stdout",
     "output_type": "stream",
     "text": [
      "✅ Model trained and saved.\n"
     ]
    }
   ],
   "source": [
    "from sklearn.feature_extraction.text import TfidfVectorizer\n",
    "from sklearn.naive_bayes import MultinomialNB\n",
    "from sklearn.pipeline import make_pipeline\n",
    "from sklearn.model_selection import train_test_split\n",
    "import joblib\n",
    "\n",
    "# Prepare inputs and outputs\n",
    "X = df['email']\n",
    "y = df['type']\n",
    "\n",
    "# Split the data\n",
    "X_train, X_test, y_train, y_test = train_test_split(X, y, test_size=0.2, random_state=42)\n",
    "\n",
    "# Create pipeline\n",
    "model = make_pipeline(TfidfVectorizer(), MultinomialNB())\n",
    "\n",
    "# Train model\n",
    "model.fit(X_train, y_train)\n",
    "\n",
    "# Save model\n",
    "joblib.dump(model, 'saved_models/email_classifier.pkl')\n",
    "print(\"✅ Model trained and saved.\")\n"
   ]
  },
  {
   "cell_type": "code",
   "execution_count": 15,
   "id": "280c3341-54f6-4030-899e-5ab1422ea418",
   "metadata": {},
   "outputs": [
    {
     "name": "stdout",
     "output_type": "stream",
     "text": [
      "✅ Classification Report:\n",
      "\n",
      "              precision    recall  f1-score   support\n",
      "\n",
      "      Change       0.97      0.07      0.13       479\n",
      "    Incident       0.61      0.99      0.75      1920\n",
      "     Problem       0.38      0.01      0.02      1009\n",
      "     Request       0.78      0.91      0.84      1392\n",
      "\n",
      "    accuracy                           0.67      4800\n",
      "   macro avg       0.68      0.50      0.44      4800\n",
      "weighted avg       0.65      0.67      0.56      4800\n",
      "\n"
     ]
    }
   ],
   "source": [
    "from sklearn.metrics import classification_report\n",
    "\n",
    "# Predict on the test set\n",
    "y_pred = model.predict(X_test)\n",
    "\n",
    "# Generate precision, recall, f1-score\n",
    "report = classification_report(y_test, y_pred)\n",
    "\n",
    "print(\"✅ Classification Report:\\n\")\n",
    "print(report)\n"
   ]
  },
  {
   "cell_type": "code",
   "execution_count": 12,
   "id": "912134e1-6c75-4d90-8df4-e48cc864b906",
   "metadata": {},
   "outputs": [],
   "source": [
    "# Load trained model\n",
    "model = joblib.load('saved_models/email_classifier.pkl')\n",
    "\n",
    "def classify_email(email_text):\n",
    "    masked_email, masked_entities = mask_pii(email_text)\n",
    "    predicted_category = model.predict([masked_email])[0]\n",
    "\n",
    "    return {\n",
    "        \"input_email_body\": email_text,\n",
    "        \"list_of_masked_entities\": masked_entities,\n",
    "        \"masked_email\": masked_email,\n",
    "        \"category_of_the_email\": predicted_category\n",
    "    }\n"
   ]
  },
  {
   "cell_type": "code",
   "execution_count": 13,
   "id": "6b17d2a8-9fd5-4e57-8d0c-a0f344d913c9",
   "metadata": {},
   "outputs": [
    {
     "name": "stdout",
     "output_type": "stream",
     "text": [
      "{'input_email_body': '\\nHello Support Team,\\n\\nMy name is Rahul Sharma. My email is rahul123@gmail.com and phone number is 9876543210. \\nMy card number is 1234 5678 9012 3456, CVV 123, and expiry 06/24. My Aadhaar is 1234 5678 9123.\\n\\nPlease help me with a billing issue.\\n\\nThanks,\\nRahul\\n', 'list_of_masked_entities': [{'position': [33, 44], 'classification': 'full_name', 'entity': 'Rahul Sharma'}, {'position': [58, 65], 'classification': 'email', 'entity': 'rahul123@gmail.com'}, {'position': [86, 100], 'classification': 'phone_number', 'entity': '9876543210'}, {'position': [121, 133], 'classification': 'aadhar_num', 'entity': '1234 5678 9012'}, {'position': [183, 195], 'classification': 'aadhar_num', 'entity': '1234 5678 9123'}, {'position': [144, 152], 'classification': 'cvv_no', 'entity': '123'}, {'position': [165, 176], 'classification': 'expiry_no', 'entity': '06/24'}], 'masked_email': '\\nHello Support Team,\\n\\nMy name is [full_name]. My email is [email] and phone number is [phone_number]. \\nMy card number is [aadhar_num] 3456, CVV [cvv_no], and expiry [expiry_no]. My Aadhaar is 12[aadhar_num]\\nPlease help me with a billing issue.\\n\\nThanks,\\nRahul\\n', 'category_of_the_email': 'Incident'}\n"
     ]
    }
   ],
   "source": [
    "sample_email = \"\"\"\n",
    "Hello Support Team,\n",
    "\n",
    "My name is Rahul Sharma. My email is rahul123@gmail.com and phone number is 9876543210. \n",
    "My card number is 1234 5678 9012 3456, CVV 123, and expiry 06/24. My Aadhaar is 1234 5678 9123.\n",
    "\n",
    "Please help me with a billing issue.\n",
    "\n",
    "Thanks,\n",
    "Rahul\n",
    "\"\"\"\n",
    "\n",
    "result = classify_email(sample_email)\n",
    "print(result)\n"
   ]
  },
  {
   "cell_type": "code",
   "execution_count": 14,
   "id": "e14f566a-0273-4edb-99bd-5ddf220bc61a",
   "metadata": {},
   "outputs": [
    {
     "name": "stdout",
     "output_type": "stream",
     "text": [
      "{\n",
      "    \"input_email_body\": \"\\nHello Team,\\n\\nMy name is Suresh Kumar. My email is suresh.kumar@example.com and my contact number is 9876543210.\\nMy card number is 1234 5678 9101 1121, CVV 456, expiry 09/25, and Aadhaar 1234 5678 9012.\\n\\nPlease solve my billing issue.\\n\\nThanks,\\nSuresh\\n\",\n",
      "    \"list_of_masked_entities\": [\n",
      "        {\n",
      "            \"position\": [\n",
      "                25,\n",
      "                36\n",
      "            ],\n",
      "            \"classification\": \"full_name\",\n",
      "            \"entity\": \"Suresh Kumar\"\n",
      "        },\n",
      "        {\n",
      "            \"position\": [\n",
      "                50,\n",
      "                57\n",
      "            ],\n",
      "            \"classification\": \"email\",\n",
      "            \"entity\": \"suresh.kumar@example.com\"\n",
      "        },\n",
      "        {\n",
      "            \"position\": [\n",
      "                83,\n",
      "                97\n",
      "            ],\n",
      "            \"classification\": \"phone_number\",\n",
      "            \"entity\": \"9876543210\"\n",
      "        },\n",
      "        {\n",
      "            \"position\": [\n",
      "                117,\n",
      "                129\n",
      "            ],\n",
      "            \"classification\": \"aadhar_num\",\n",
      "            \"entity\": \"1234 5678 9101\"\n",
      "        },\n",
      "        {\n",
      "            \"position\": [\n",
      "                173,\n",
      "                185\n",
      "            ],\n",
      "            \"classification\": \"aadhar_num\",\n",
      "            \"entity\": \"1234 5678 9012\"\n",
      "        },\n",
      "        {\n",
      "            \"position\": [\n",
      "                140,\n",
      "                148\n",
      "            ],\n",
      "            \"classification\": \"cvv_no\",\n",
      "            \"entity\": \"456\"\n",
      "        },\n",
      "        {\n",
      "            \"position\": [\n",
      "                157,\n",
      "                168\n",
      "            ],\n",
      "            \"classification\": \"expiry_no\",\n",
      "            \"entity\": \"09/25\"\n",
      "        }\n",
      "    ],\n",
      "    \"masked_email\": \"\\nHello Team,\\n\\nMy name is [full_name]. My email is [email] and my contact number is [phone_number].\\nMy card number is [aadhar_num] 1121, CVV [cvv_no], expiry [expiry_no], and Aadhaar 12[aadhar_num]\\nPlease solve my billing issue.\\n\\nThanks,\\nSuresh\\n\",\n",
      "    \"category_of_the_email\": \"Incident\"\n",
      "}\n"
     ]
    }
   ],
   "source": [
    "sample_email = \"\"\"\n",
    "Hello Team,\n",
    "\n",
    "My name is Suresh Kumar. My email is suresh.kumar@example.com and my contact number is 9876543210.\n",
    "My card number is 1234 5678 9101 1121, CVV 456, expiry 09/25, and Aadhaar 1234 5678 9012.\n",
    "\n",
    "Please solve my billing issue.\n",
    "\n",
    "Thanks,\n",
    "Suresh\n",
    "\"\"\"\n",
    "\n",
    "# Run the pipeline\n",
    "result = classify_email(sample_email)\n",
    "\n",
    "# Pretty print JSON output\n",
    "import json\n",
    "print(json.dumps(result, indent=4))\n"
   ]
  },
  {
   "cell_type": "code",
   "execution_count": null,
   "id": "5958d317-14d2-445d-8bc5-6efd99ed43df",
   "metadata": {},
   "outputs": [],
   "source": []
  }
 ],
 "metadata": {
  "kernelspec": {
   "display_name": "Python 3 (ipykernel)",
   "language": "python",
   "name": "python3"
  },
  "language_info": {
   "codemirror_mode": {
    "name": "ipython",
    "version": 3
   },
   "file_extension": ".py",
   "mimetype": "text/x-python",
   "name": "python",
   "nbconvert_exporter": "python",
   "pygments_lexer": "ipython3",
   "version": "3.11.4"
  }
 },
 "nbformat": 4,
 "nbformat_minor": 5
}
